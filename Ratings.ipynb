{
 "cells": [
  {
   "cell_type": "markdown",
   "metadata": {},
   "source": [
    "# Ratings notebook\n",
    "\n",
    "Importado de los packages necesarios"
   ]
  },
  {
   "cell_type": "code",
   "execution_count": 1,
   "metadata": {},
   "outputs": [],
   "source": [
    "import numpy as np\n",
    "import pandas as pd"
   ]
  },
  {
   "cell_type": "markdown",
   "metadata": {},
   "source": [
    "## Importado de datos\n",
    "\n",
    "Importado de los datos y guardado del target en una nueva variable"
   ]
  },
  {
   "cell_type": "code",
   "execution_count": 2,
   "metadata": {},
   "outputs": [],
   "source": [
    "train = pd.read_csv(\"data/train.csv\")\n",
    "test = pd.read_csv(\"data/test.csv\")\n",
    "\n",
    "target = train['TARGET']\n",
    "train = train.drop(['TARGET', 'ID'], axis = 1)\n",
    "test = test.drop(['ID'], axis = 1)"
   ]
  },
  {
   "cell_type": "markdown",
   "metadata": {},
   "source": [
    "Listado de campos del train"
   ]
  },
  {
   "cell_type": "code",
   "execution_count": 3,
   "metadata": {},
   "outputs": [
    {
     "name": "stdout",
     "output_type": "stream",
     "text": [
      "['antig_empr_anys', 'var_rati_fp_pasivo', 'saldopasivo_dispto', 'rati_tesoreria_pas', 'rati_result_gastos', 'rati_gastos_existyventas', 'rati_bai_activoinm', 'rati_acreed_fpropios', 'foment_R22', 'av3_saldopasivo_dispto', 'media_uso_totcirbe', 'me_dias_deudores_t0', 'impagado_eur_t0', 'rati_fpropios_pasivo', 'rati_resultado_ventas', 'rati_bai_activo', 'max_dias_deudores_ult3', 'max_importe_impag_ult3', 'importe_impag_ventas', 'aler_leves_W', 'aler_medias_W', 'aler_graves_W']\n"
     ]
    }
   ],
   "source": [
    "print(list(train.columns.values))"
   ]
  },
  {
   "cell_type": "markdown",
   "metadata": {},
   "source": [
    "## Modelo XGBoost"
   ]
  },
  {
   "cell_type": "code",
   "execution_count": 4,
   "metadata": {},
   "outputs": [
    {
     "name": "stdout",
     "output_type": "stream",
     "text": [
      "[[9.9883574e-01 1.1642345e-03]\n",
      " [9.9883574e-01 1.1642345e-03]\n",
      " [9.9970537e-01 2.9464261e-04]\n",
      " ...\n",
      " [9.9305618e-01 6.9438475e-03]\n",
      " [9.9951303e-01 4.8694768e-04]\n",
      " [9.7775048e-01 2.2249492e-02]]\n"
     ]
    }
   ],
   "source": [
    "from ml.xgboost import XGBClassifier\n",
    "\n",
    "xgb = XGBClassifier()\n",
    "xgb.fit(train, target)\n",
    "pred = xgb.predict(test, probs = True)\n",
    "\n",
    "print(pred)"
   ]
  },
  {
   "cell_type": "markdown",
   "metadata": {},
   "source": [
    "## Submissions\n",
    "\n",
    "Create a function to submit the results"
   ]
  },
  {
   "cell_type": "code",
   "execution_count": 15,
   "metadata": {},
   "outputs": [],
   "source": [
    "def submit(pred, name = \"submission\"):\n",
    "    sub = pd.read_csv(\"data/submission_sample.csv\")\n",
    "    \n",
    "    aux_pred = []\n",
    "    for i in range(len(pred)):\n",
    "        aux_pred.append(pred[i][1])\n",
    "    \n",
    "    sub['Pred'] = aux_pred\n",
    "    sub.to_csv(\"subs/\" + name + \".csv\", index = False)\n",
    "    \n",
    "submit(pred)"
   ]
  },
  {
   "cell_type": "code",
   "execution_count": null,
   "metadata": {},
   "outputs": [],
   "source": []
  }
 ],
 "metadata": {
  "kernelspec": {
   "display_name": "Python 3",
   "language": "python",
   "name": "python3"
  },
  "language_info": {
   "codemirror_mode": {
    "name": "ipython",
    "version": 3
   },
   "file_extension": ".py",
   "mimetype": "text/x-python",
   "name": "python",
   "nbconvert_exporter": "python",
   "pygments_lexer": "ipython3",
   "version": "3.6.6"
  }
 },
 "nbformat": 4,
 "nbformat_minor": 2
}
